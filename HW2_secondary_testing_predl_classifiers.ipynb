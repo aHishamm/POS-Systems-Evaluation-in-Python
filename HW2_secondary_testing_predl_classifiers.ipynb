{
 "cells": [
  {
   "cell_type": "markdown",
   "metadata": {
    "id": "tsHD3CNq5m2x"
   },
   "source": [
    "# NLP Homework 2: Part of Speech (POS) Tagging \n",
    "\n",
    "Done by: Abdulrahman Hisham Al Muaitah  \n",
    "University ID: 202110856"
   ]
  },
  {
   "cell_type": "markdown",
   "metadata": {
    "id": "HJsNYvKx5mKC"
   },
   "source": [
    "## Task 1: Build a Part of Speech Tagger Using Pre-DL Classifiers"
   ]
  },
  {
   "cell_type": "markdown",
   "metadata": {
    "id": "NQj66KSg6EeF"
   },
   "source": [
    "#### Installing/importing libraries "
   ]
  },
  {
   "cell_type": "code",
   "execution_count": 1,
   "metadata": {
    "colab": {
     "base_uri": "https://localhost:8080/"
    },
    "id": "JAsL7DOt5b61",
    "outputId": "6b19dcfc-9590-4253-e215-e650b49a9853"
   },
   "outputs": [
    {
     "name": "stdout",
     "output_type": "stream",
     "text": [
      "Requirement already satisfied: pyconll in c:\\users\\aalmu\\anaconda3\\envs\\pycaretenv\\lib\\site-packages (3.1.0)\n"
     ]
    }
   ],
   "source": [
    "!pip install pyconll"
   ]
  },
  {
   "cell_type": "code",
   "execution_count": 1,
   "metadata": {
    "id": "9kxZyVJT6RDh"
   },
   "outputs": [],
   "source": [
    "import pandas as pd \n",
    "import numpy as np\n",
    "import csv \n",
    "import gensim as gs \n",
    "import multiprocessing \n",
    "from gensim.models.word2vec import Word2Vec\n",
    "import pyconll\n",
    "import seaborn as sns \n",
    "import matplotlib.pyplot as plt "
   ]
  },
  {
   "cell_type": "code",
   "execution_count": 2,
   "metadata": {
    "id": "IoMiwU0e68bn"
   },
   "outputs": [],
   "source": [
    "train_PADT = pyconll.load_from_file('UD_Arabic-PADT/ar_padt-ud-train.conllu')\n",
    "test_PADT = pyconll.load_from_file('UD_Arabic-PADT/ar_padt-ud-test.conllu')\n",
    "test_PUD = pyconll.load_from_file('UD_Arabic-PUD/ar_pud-ud-test.conllu')"
   ]
  },
  {
   "cell_type": "markdown",
   "metadata": {
    "id": "sKgCb1tM86IZ"
   },
   "source": [
    "**We will start with the PADT dataset** "
   ]
  },
  {
   "cell_type": "markdown",
   "metadata": {
    "id": "k2-l_c_d8f2H"
   },
   "source": [
    "The following algorithm I wrote, will go through each list of PyConll objects, fetch the \"form\" and \"upos\" of each word in each sentence. The \"form\" is the word, and \"upos\" is the tag.  \n",
    "The algorithm will output 4 list of lists, each containing a sentence lists of the words and their corresponding tags. "
   ]
  },
  {
   "cell_type": "code",
   "execution_count": null,
   "metadata": {
    "colab": {
     "base_uri": "https://localhost:8080/"
    },
    "id": "arV5kc0l7vgi",
    "jupyter": {
     "outputs_hidden": true
    },
    "outputId": "99c7618b-ecdf-470e-fed5-9c39edf0b37b",
    "scrolled": true,
    "tags": []
   },
   "outputs": [],
   "source": [
    "wordTokenList = [] \n",
    "posTokenList = [] \n",
    "testwordTokenList = [] \n",
    "testposTokenList = [] \n",
    "\n",
    "trainsentences = [ i for i in train_PADT] \n",
    "for i in range(len(trainsentences) - 1): \n",
    "  sentenceList = [] \n",
    "  for j in trainsentences[i]: \n",
    "    if j.upos == None: \n",
    "      continue \n",
    "    sentenceList.append(j.form)\n",
    "  wordTokenList.append(sentenceList)\n",
    "print(\"The word sentence list: \\n\",wordTokenList[:500])\n",
    "\n",
    "for i in range(len(trainsentences) - 1): \n",
    "  sentenceList = [] \n",
    "  for j in trainsentences[i]: \n",
    "    if j.upos == None: \n",
    "      continue \n",
    "    sentenceList.append(j.upos)\n",
    "  posTokenList.append(sentenceList)\n",
    "print(\"The POS sentence list: \\n\",posTokenList[:500])\n",
    "\n",
    "testsentences = [ i for i in test_PADT] \n",
    "for i in range(len(testsentences) - 1): \n",
    "  sentenceList = [] \n",
    "  for j in testsentences[i]: \n",
    "    if j.upos == None: \n",
    "      continue \n",
    "    sentenceList.append(j.form)\n",
    "  testwordTokenList.append(sentenceList)\n",
    "print(\"The word sentence list: \\n\",testwordTokenList[:500])\n",
    "\n",
    "for i in range(len(testsentences) - 1): \n",
    "  sentenceList = [] \n",
    "  for j in testsentences[i]: \n",
    "    if j.upos == None: \n",
    "      continue \n",
    "    sentenceList.append(j.upos)\n",
    "  testposTokenList.append(sentenceList)\n",
    "print(\"The POS sentence list: \\n\",testposTokenList[:500])"
   ]
  },
  {
   "cell_type": "markdown",
   "metadata": {
    "id": "5zNJrrbk99Nx"
   },
   "source": [
    "Concatenating the train and test lists for both the words and the pos tags "
   ]
  },
  {
   "cell_type": "code",
   "execution_count": 4,
   "metadata": {
    "id": "VpMcN3KP9MRF"
   },
   "outputs": [],
   "source": [
    "fullWordList = wordTokenList + testwordTokenList \n",
    "fullposList = posTokenList + testposTokenList\n",
    "\n",
    "#set() for distinguishing the unique words \n",
    "wordlen = len(set([word.lower() for sentence in fullWordList for word in sentence]))\n",
    "taglen = len(set([word.lower() for sentence in fullposList for word in sentence]))"
   ]
  },
  {
   "cell_type": "code",
   "execution_count": 5,
   "metadata": {
    "colab": {
     "base_uri": "https://localhost:8080/"
    },
    "id": "3D_m-ooG-JSe",
    "outputId": "b062552e-f01a-4fb2-cc2b-85972d4db9fb"
   },
   "outputs": [
    {
     "name": "stdout",
     "output_type": "stream",
     "text": [
      "The length of the word list:  6753\n",
      "The length of the POS list:  6753\n",
      "The number of words in the corpus:  23353\n",
      "The number of pos in the corpus:  17\n"
     ]
    }
   ],
   "source": [
    "print(\"The length of the word list: \",len(fullWordList)) \n",
    "print(\"The length of the POS list: \",len(fullposList))\n",
    "print(\"The number of words in the corpus: \",wordlen) \n",
    "print(\"The number of pos in the corpus: \",taglen)"
   ]
  },
  {
   "cell_type": "markdown",
   "metadata": {
    "id": "ybj3mnrWlI2l"
   },
   "source": [
    "#### Pre-DL Classifiers "
   ]
  },
  {
   "cell_type": "code",
   "execution_count": 6,
   "metadata": {
    "id": "wRpJ0sf-lOcE"
   },
   "outputs": [],
   "source": [
    "from sklearn.metrics import accuracy_score, f1_score, precision_score, recall_score \n",
    "from sklearn.model_selection import train_test_split\n",
    "from sklearn.svm import SVC \n",
    "from sklearn import preprocessing "
   ]
  },
  {
   "cell_type": "code",
   "execution_count": 7,
   "metadata": {
    "colab": {
     "base_uri": "https://localhost:8080/"
    },
    "id": "RBmVt1zjlYRl",
    "outputId": "90d26a7d-2602-4211-bf32-acd19685704d"
   },
   "outputs": [
    {
     "name": "stdout",
     "output_type": "stream",
     "text": [
      "6753\n",
      "252085\n",
      "['x', 'verb', 'noun', 'noun', 'adj', 'adp', 'noun', 'noun', 'noun', 'punct', 'x', 'punct', 'adj', 'x', 'num', 'punct', 'num', 'punct', 'x', 'x']\n"
     ]
    }
   ],
   "source": [
    "words =fullWordList \n",
    "tags = [word.lower() for sentence in fullposList for word in sentence]\n",
    "print(len(words)) \n",
    "print(len(tags)) \n",
    "print(tags[:20])"
   ]
  },
  {
   "cell_type": "code",
   "execution_count": 8,
   "metadata": {
    "id": "1A5ImBp8mtnF"
   },
   "outputs": [],
   "source": [
    "svmW2V = Word2Vec(sentences=fullWordList,size=100,workers=4,window=1,min_count=0) "
   ]
  },
  {
   "cell_type": "code",
   "execution_count": 9,
   "metadata": {
    "colab": {
     "base_uri": "https://localhost:8080/"
    },
    "id": "J88dFnIgpfrd",
    "outputId": "5da010bc-4274-43e3-cee7-2fa10ae9739a"
   },
   "outputs": [
    {
     "name": "stdout",
     "output_type": "stream",
     "text": [
      "6753\n",
      "252085\n"
     ]
    }
   ],
   "source": [
    "X = [] \n",
    "for i in range(len(words)): \n",
    "  wvlist = [] \n",
    "  for k in range(len(words[i])): \n",
    "    wvlist.append(svmW2V.wv[words[i][k]]) \n",
    "  X.append(wvlist) \n",
    "print(len(X))\n",
    "\n",
    "X = [item for sublist in X for item in sublist] \n",
    "print(len(X))"
   ]
  },
  {
   "cell_type": "code",
   "execution_count": 10,
   "metadata": {
    "id": "rD4HAitunH6z"
   },
   "outputs": [],
   "source": [
    "le = preprocessing.LabelEncoder() \n",
    "y = le.fit_transform(tags)"
   ]
  },
  {
   "cell_type": "code",
   "execution_count": 11,
   "metadata": {
    "colab": {
     "base_uri": "https://localhost:8080/"
    },
    "id": "jPD0lQWdoGKE",
    "outputId": "e668f8ba-7343-446b-8906-a8ef06503071"
   },
   "outputs": [
    {
     "data": {
      "text/plain": [
       "array([16, 15,  7, ..., 16,  7, 12], dtype=int64)"
      ]
     },
     "execution_count": 11,
     "metadata": {},
     "output_type": "execute_result"
    }
   ],
   "source": [
    "y"
   ]
  },
  {
   "cell_type": "code",
   "execution_count": 12,
   "metadata": {
    "colab": {
     "base_uri": "https://localhost:8080/"
    },
    "id": "0IOFpChroJIv",
    "outputId": "e14ab767-bed6-4848-946d-c3e292685123"
   },
   "outputs": [
    {
     "name": "stdout",
     "output_type": "stream",
     "text": [
      "100\n",
      "100\n"
     ]
    }
   ],
   "source": [
    "print(len(X[0]))\n",
    "print(len(X[1]))\n"
   ]
  },
  {
   "cell_type": "code",
   "execution_count": 13,
   "metadata": {
    "id": "SnrhCix1nW14"
   },
   "outputs": [],
   "source": [
    "X_train, X_test, y_train, y_test = train_test_split(X, y, test_size=0.20,random_state=15)"
   ]
  },
  {
   "cell_type": "code",
   "execution_count": 14,
   "metadata": {},
   "outputs": [],
   "source": [
    "data = np.c_[X_train,y_train]"
   ]
  },
  {
   "cell_type": "code",
   "execution_count": 15,
   "metadata": {},
   "outputs": [
    {
     "data": {
      "text/plain": [
       "(201668, 101)"
      ]
     },
     "execution_count": 15,
     "metadata": {},
     "output_type": "execute_result"
    }
   ],
   "source": [
    "np.shape(data)"
   ]
  },
  {
   "cell_type": "code",
   "execution_count": 16,
   "metadata": {},
   "outputs": [
    {
     "name": "stdout",
     "output_type": "stream",
     "text": [
      "['column0', 'column1', 'column2', 'column3', 'column4', 'column5', 'column6', 'column7', 'column8', 'column9', 'column10', 'column11', 'column12', 'column13', 'column14', 'column15', 'column16', 'column17', 'column18', 'column19', 'column20', 'column21', 'column22', 'column23', 'column24', 'column25', 'column26', 'column27', 'column28', 'column29', 'column30', 'column31', 'column32', 'column33', 'column34', 'column35', 'column36', 'column37', 'column38', 'column39', 'column40', 'column41', 'column42', 'column43', 'column44', 'column45', 'column46', 'column47', 'column48', 'column49', 'column50', 'column51', 'column52', 'column53', 'column54', 'column55', 'column56', 'column57', 'column58', 'column59', 'column60', 'column61', 'column62', 'column63', 'column64', 'column65', 'column66', 'column67', 'column68', 'column69', 'column70', 'column71', 'column72', 'column73', 'column74', 'column75', 'column76', 'column77', 'column78', 'column79', 'column80', 'column81', 'column82', 'column83', 'column84', 'column85', 'column86', 'column87', 'column88', 'column89', 'column90', 'column91', 'column92', 'column93', 'column94', 'column95', 'column96', 'column97', 'column98', 'column99', 'column100']\n"
     ]
    }
   ],
   "source": [
    "colnames = [] \n",
    "for i in range(101): \n",
    "    colnames.append('column'+str(i)) \n",
    "print(colnames)"
   ]
  },
  {
   "cell_type": "code",
   "execution_count": 17,
   "metadata": {},
   "outputs": [
    {
     "data": {
      "text/html": [
       "<div>\n",
       "<style scoped>\n",
       "    .dataframe tbody tr th:only-of-type {\n",
       "        vertical-align: middle;\n",
       "    }\n",
       "\n",
       "    .dataframe tbody tr th {\n",
       "        vertical-align: top;\n",
       "    }\n",
       "\n",
       "    .dataframe thead th {\n",
       "        text-align: right;\n",
       "    }\n",
       "</style>\n",
       "<table border=\"1\" class=\"dataframe\">\n",
       "  <thead>\n",
       "    <tr style=\"text-align: right;\">\n",
       "      <th></th>\n",
       "      <th>column0</th>\n",
       "      <th>column1</th>\n",
       "      <th>column2</th>\n",
       "      <th>column3</th>\n",
       "      <th>column4</th>\n",
       "      <th>column5</th>\n",
       "      <th>column6</th>\n",
       "      <th>column7</th>\n",
       "      <th>column8</th>\n",
       "      <th>column9</th>\n",
       "      <th>...</th>\n",
       "      <th>column91</th>\n",
       "      <th>column92</th>\n",
       "      <th>column93</th>\n",
       "      <th>column94</th>\n",
       "      <th>column95</th>\n",
       "      <th>column96</th>\n",
       "      <th>column97</th>\n",
       "      <th>column98</th>\n",
       "      <th>column99</th>\n",
       "      <th>column100</th>\n",
       "    </tr>\n",
       "  </thead>\n",
       "  <tbody>\n",
       "    <tr>\n",
       "      <th>0</th>\n",
       "      <td>-0.060211</td>\n",
       "      <td>0.133235</td>\n",
       "      <td>0.035630</td>\n",
       "      <td>-0.003546</td>\n",
       "      <td>-0.152450</td>\n",
       "      <td>-0.002033</td>\n",
       "      <td>0.128328</td>\n",
       "      <td>-0.019265</td>\n",
       "      <td>-0.010600</td>\n",
       "      <td>0.009889</td>\n",
       "      <td>...</td>\n",
       "      <td>0.091864</td>\n",
       "      <td>-0.047691</td>\n",
       "      <td>0.018412</td>\n",
       "      <td>0.016028</td>\n",
       "      <td>-0.046584</td>\n",
       "      <td>0.034492</td>\n",
       "      <td>-0.030808</td>\n",
       "      <td>0.009225</td>\n",
       "      <td>-0.103478</td>\n",
       "      <td>7.0</td>\n",
       "    </tr>\n",
       "    <tr>\n",
       "      <th>1</th>\n",
       "      <td>-0.155224</td>\n",
       "      <td>0.287055</td>\n",
       "      <td>0.093696</td>\n",
       "      <td>-0.029975</td>\n",
       "      <td>-0.304174</td>\n",
       "      <td>0.006146</td>\n",
       "      <td>0.263189</td>\n",
       "      <td>-0.049060</td>\n",
       "      <td>-0.054328</td>\n",
       "      <td>-0.021311</td>\n",
       "      <td>...</td>\n",
       "      <td>0.188742</td>\n",
       "      <td>-0.127478</td>\n",
       "      <td>0.011151</td>\n",
       "      <td>0.034658</td>\n",
       "      <td>-0.072074</td>\n",
       "      <td>0.093484</td>\n",
       "      <td>-0.070370</td>\n",
       "      <td>0.034756</td>\n",
       "      <td>-0.182817</td>\n",
       "      <td>4.0</td>\n",
       "    </tr>\n",
       "    <tr>\n",
       "      <th>2</th>\n",
       "      <td>-0.121631</td>\n",
       "      <td>0.308496</td>\n",
       "      <td>0.072621</td>\n",
       "      <td>-0.007128</td>\n",
       "      <td>-0.327200</td>\n",
       "      <td>-0.013204</td>\n",
       "      <td>0.262613</td>\n",
       "      <td>-0.016637</td>\n",
       "      <td>0.003773</td>\n",
       "      <td>0.032442</td>\n",
       "      <td>...</td>\n",
       "      <td>0.203560</td>\n",
       "      <td>-0.100833</td>\n",
       "      <td>0.048860</td>\n",
       "      <td>0.026665</td>\n",
       "      <td>-0.080110</td>\n",
       "      <td>0.052318</td>\n",
       "      <td>-0.076983</td>\n",
       "      <td>0.012771</td>\n",
       "      <td>-0.229666</td>\n",
       "      <td>7.0</td>\n",
       "    </tr>\n",
       "    <tr>\n",
       "      <th>3</th>\n",
       "      <td>-0.743744</td>\n",
       "      <td>0.909768</td>\n",
       "      <td>0.388754</td>\n",
       "      <td>-0.189795</td>\n",
       "      <td>-0.945927</td>\n",
       "      <td>0.024326</td>\n",
       "      <td>1.008494</td>\n",
       "      <td>-0.273541</td>\n",
       "      <td>-0.281397</td>\n",
       "      <td>-0.450574</td>\n",
       "      <td>...</td>\n",
       "      <td>0.474782</td>\n",
       "      <td>-0.607040</td>\n",
       "      <td>-0.151203</td>\n",
       "      <td>-0.020935</td>\n",
       "      <td>-0.040873</td>\n",
       "      <td>0.282479</td>\n",
       "      <td>-0.228365</td>\n",
       "      <td>0.022018</td>\n",
       "      <td>-0.489107</td>\n",
       "      <td>3.0</td>\n",
       "    </tr>\n",
       "    <tr>\n",
       "      <th>4</th>\n",
       "      <td>-0.182165</td>\n",
       "      <td>0.404983</td>\n",
       "      <td>0.104731</td>\n",
       "      <td>-0.012205</td>\n",
       "      <td>-0.428645</td>\n",
       "      <td>-0.014739</td>\n",
       "      <td>0.397501</td>\n",
       "      <td>-0.073843</td>\n",
       "      <td>-0.023079</td>\n",
       "      <td>0.017354</td>\n",
       "      <td>...</td>\n",
       "      <td>0.286820</td>\n",
       "      <td>-0.164982</td>\n",
       "      <td>0.017077</td>\n",
       "      <td>0.048140</td>\n",
       "      <td>-0.113707</td>\n",
       "      <td>0.101430</td>\n",
       "      <td>-0.083862</td>\n",
       "      <td>0.022204</td>\n",
       "      <td>-0.282102</td>\n",
       "      <td>8.0</td>\n",
       "    </tr>\n",
       "    <tr>\n",
       "      <th>...</th>\n",
       "      <td>...</td>\n",
       "      <td>...</td>\n",
       "      <td>...</td>\n",
       "      <td>...</td>\n",
       "      <td>...</td>\n",
       "      <td>...</td>\n",
       "      <td>...</td>\n",
       "      <td>...</td>\n",
       "      <td>...</td>\n",
       "      <td>...</td>\n",
       "      <td>...</td>\n",
       "      <td>...</td>\n",
       "      <td>...</td>\n",
       "      <td>...</td>\n",
       "      <td>...</td>\n",
       "      <td>...</td>\n",
       "      <td>...</td>\n",
       "      <td>...</td>\n",
       "      <td>...</td>\n",
       "      <td>...</td>\n",
       "      <td>...</td>\n",
       "    </tr>\n",
       "    <tr>\n",
       "      <th>201663</th>\n",
       "      <td>-0.368708</td>\n",
       "      <td>0.720986</td>\n",
       "      <td>0.271292</td>\n",
       "      <td>-0.122599</td>\n",
       "      <td>-0.637311</td>\n",
       "      <td>-0.032909</td>\n",
       "      <td>0.823462</td>\n",
       "      <td>-0.489211</td>\n",
       "      <td>0.193820</td>\n",
       "      <td>-0.165287</td>\n",
       "      <td>...</td>\n",
       "      <td>0.533269</td>\n",
       "      <td>-0.549148</td>\n",
       "      <td>-0.220598</td>\n",
       "      <td>0.063703</td>\n",
       "      <td>0.128571</td>\n",
       "      <td>0.176466</td>\n",
       "      <td>0.117814</td>\n",
       "      <td>-0.135907</td>\n",
       "      <td>-0.577726</td>\n",
       "      <td>1.0</td>\n",
       "    </tr>\n",
       "    <tr>\n",
       "      <th>201664</th>\n",
       "      <td>-0.162557</td>\n",
       "      <td>0.318183</td>\n",
       "      <td>0.106665</td>\n",
       "      <td>-0.036985</td>\n",
       "      <td>-0.346502</td>\n",
       "      <td>-0.009485</td>\n",
       "      <td>0.326853</td>\n",
       "      <td>-0.066836</td>\n",
       "      <td>-0.046710</td>\n",
       "      <td>-0.014947</td>\n",
       "      <td>...</td>\n",
       "      <td>0.231627</td>\n",
       "      <td>-0.152132</td>\n",
       "      <td>-0.000203</td>\n",
       "      <td>0.034507</td>\n",
       "      <td>-0.081202</td>\n",
       "      <td>0.095048</td>\n",
       "      <td>-0.057100</td>\n",
       "      <td>0.028715</td>\n",
       "      <td>-0.227016</td>\n",
       "      <td>0.0</td>\n",
       "    </tr>\n",
       "    <tr>\n",
       "      <th>201665</th>\n",
       "      <td>-0.469673</td>\n",
       "      <td>0.839096</td>\n",
       "      <td>0.315497</td>\n",
       "      <td>-0.069448</td>\n",
       "      <td>-0.826144</td>\n",
       "      <td>-0.026721</td>\n",
       "      <td>0.884715</td>\n",
       "      <td>-0.313299</td>\n",
       "      <td>0.058686</td>\n",
       "      <td>-0.163864</td>\n",
       "      <td>...</td>\n",
       "      <td>0.591226</td>\n",
       "      <td>-0.500957</td>\n",
       "      <td>-0.127662</td>\n",
       "      <td>0.105667</td>\n",
       "      <td>-0.038093</td>\n",
       "      <td>0.216647</td>\n",
       "      <td>-0.077737</td>\n",
       "      <td>-0.014114</td>\n",
       "      <td>-0.568877</td>\n",
       "      <td>1.0</td>\n",
       "    </tr>\n",
       "    <tr>\n",
       "      <th>201666</th>\n",
       "      <td>-0.202855</td>\n",
       "      <td>0.392997</td>\n",
       "      <td>0.130035</td>\n",
       "      <td>-0.028124</td>\n",
       "      <td>-0.452715</td>\n",
       "      <td>-0.018643</td>\n",
       "      <td>0.449976</td>\n",
       "      <td>-0.090900</td>\n",
       "      <td>-0.072661</td>\n",
       "      <td>-0.008243</td>\n",
       "      <td>...</td>\n",
       "      <td>0.323002</td>\n",
       "      <td>-0.196769</td>\n",
       "      <td>-0.001865</td>\n",
       "      <td>0.059691</td>\n",
       "      <td>-0.124940</td>\n",
       "      <td>0.130209</td>\n",
       "      <td>-0.073025</td>\n",
       "      <td>0.050157</td>\n",
       "      <td>-0.278449</td>\n",
       "      <td>7.0</td>\n",
       "    </tr>\n",
       "    <tr>\n",
       "      <th>201667</th>\n",
       "      <td>-0.088721</td>\n",
       "      <td>0.133914</td>\n",
       "      <td>0.055477</td>\n",
       "      <td>-0.021588</td>\n",
       "      <td>-0.157447</td>\n",
       "      <td>-0.006205</td>\n",
       "      <td>0.173424</td>\n",
       "      <td>-0.022421</td>\n",
       "      <td>-0.036858</td>\n",
       "      <td>-0.018012</td>\n",
       "      <td>...</td>\n",
       "      <td>0.109064</td>\n",
       "      <td>-0.079537</td>\n",
       "      <td>-0.007494</td>\n",
       "      <td>0.024606</td>\n",
       "      <td>-0.055435</td>\n",
       "      <td>0.058529</td>\n",
       "      <td>-0.024062</td>\n",
       "      <td>0.019255</td>\n",
       "      <td>-0.091458</td>\n",
       "      <td>4.0</td>\n",
       "    </tr>\n",
       "  </tbody>\n",
       "</table>\n",
       "<p>201668 rows × 101 columns</p>\n",
       "</div>"
      ],
      "text/plain": [
       "         column0   column1   column2   column3   column4   column5   column6  \\\n",
       "0      -0.060211  0.133235  0.035630 -0.003546 -0.152450 -0.002033  0.128328   \n",
       "1      -0.155224  0.287055  0.093696 -0.029975 -0.304174  0.006146  0.263189   \n",
       "2      -0.121631  0.308496  0.072621 -0.007128 -0.327200 -0.013204  0.262613   \n",
       "3      -0.743744  0.909768  0.388754 -0.189795 -0.945927  0.024326  1.008494   \n",
       "4      -0.182165  0.404983  0.104731 -0.012205 -0.428645 -0.014739  0.397501   \n",
       "...          ...       ...       ...       ...       ...       ...       ...   \n",
       "201663 -0.368708  0.720986  0.271292 -0.122599 -0.637311 -0.032909  0.823462   \n",
       "201664 -0.162557  0.318183  0.106665 -0.036985 -0.346502 -0.009485  0.326853   \n",
       "201665 -0.469673  0.839096  0.315497 -0.069448 -0.826144 -0.026721  0.884715   \n",
       "201666 -0.202855  0.392997  0.130035 -0.028124 -0.452715 -0.018643  0.449976   \n",
       "201667 -0.088721  0.133914  0.055477 -0.021588 -0.157447 -0.006205  0.173424   \n",
       "\n",
       "         column7   column8   column9  ...  column91  column92  column93  \\\n",
       "0      -0.019265 -0.010600  0.009889  ...  0.091864 -0.047691  0.018412   \n",
       "1      -0.049060 -0.054328 -0.021311  ...  0.188742 -0.127478  0.011151   \n",
       "2      -0.016637  0.003773  0.032442  ...  0.203560 -0.100833  0.048860   \n",
       "3      -0.273541 -0.281397 -0.450574  ...  0.474782 -0.607040 -0.151203   \n",
       "4      -0.073843 -0.023079  0.017354  ...  0.286820 -0.164982  0.017077   \n",
       "...          ...       ...       ...  ...       ...       ...       ...   \n",
       "201663 -0.489211  0.193820 -0.165287  ...  0.533269 -0.549148 -0.220598   \n",
       "201664 -0.066836 -0.046710 -0.014947  ...  0.231627 -0.152132 -0.000203   \n",
       "201665 -0.313299  0.058686 -0.163864  ...  0.591226 -0.500957 -0.127662   \n",
       "201666 -0.090900 -0.072661 -0.008243  ...  0.323002 -0.196769 -0.001865   \n",
       "201667 -0.022421 -0.036858 -0.018012  ...  0.109064 -0.079537 -0.007494   \n",
       "\n",
       "        column94  column95  column96  column97  column98  column99  column100  \n",
       "0       0.016028 -0.046584  0.034492 -0.030808  0.009225 -0.103478        7.0  \n",
       "1       0.034658 -0.072074  0.093484 -0.070370  0.034756 -0.182817        4.0  \n",
       "2       0.026665 -0.080110  0.052318 -0.076983  0.012771 -0.229666        7.0  \n",
       "3      -0.020935 -0.040873  0.282479 -0.228365  0.022018 -0.489107        3.0  \n",
       "4       0.048140 -0.113707  0.101430 -0.083862  0.022204 -0.282102        8.0  \n",
       "...          ...       ...       ...       ...       ...       ...        ...  \n",
       "201663  0.063703  0.128571  0.176466  0.117814 -0.135907 -0.577726        1.0  \n",
       "201664  0.034507 -0.081202  0.095048 -0.057100  0.028715 -0.227016        0.0  \n",
       "201665  0.105667 -0.038093  0.216647 -0.077737 -0.014114 -0.568877        1.0  \n",
       "201666  0.059691 -0.124940  0.130209 -0.073025  0.050157 -0.278449        7.0  \n",
       "201667  0.024606 -0.055435  0.058529 -0.024062  0.019255 -0.091458        4.0  \n",
       "\n",
       "[201668 rows x 101 columns]"
      ]
     },
     "execution_count": 17,
     "metadata": {},
     "output_type": "execute_result"
    }
   ],
   "source": [
    "df = pd.DataFrame(data,columns=colnames)\n",
    "df"
   ]
  },
  {
   "cell_type": "code",
   "execution_count": 18,
   "metadata": {},
   "outputs": [
    {
     "data": {
      "text/plain": [
       "0         7.0\n",
       "1         4.0\n",
       "2         7.0\n",
       "3         3.0\n",
       "4         8.0\n",
       "         ... \n",
       "201663    1.0\n",
       "201664    0.0\n",
       "201665    1.0\n",
       "201666    7.0\n",
       "201667    4.0\n",
       "Name: column100, Length: 201668, dtype: float64"
      ]
     },
     "execution_count": 18,
     "metadata": {},
     "output_type": "execute_result"
    }
   ],
   "source": [
    "df['column100']"
   ]
  },
  {
   "cell_type": "code",
   "execution_count": null,
   "metadata": {},
   "outputs": [],
   "source": []
  },
  {
   "cell_type": "code",
   "execution_count": 20,
   "metadata": {
    "colab": {
     "base_uri": "https://localhost:8080/"
    },
    "id": "Wo3W8Kpmn8SO",
    "outputId": "3f51f020-4574-4145-e851-35b4a330ea1e"
   },
   "outputs": [
    {
     "name": "stdout",
     "output_type": "stream",
     "text": [
      "(201668, 100) (201668,)\n",
      "(50417, 100) (50417,)\n"
     ]
    }
   ],
   "source": [
    "print(np.shape(X_train),np.shape(y_train))\n",
    "print(np.shape(X_test), np.shape(y_test))"
   ]
  },
  {
   "cell_type": "code",
   "execution_count": 19,
   "metadata": {},
   "outputs": [],
   "source": [
    "from pycaret.classification import *"
   ]
  },
  {
   "cell_type": "code",
   "execution_count": 20,
   "metadata": {},
   "outputs": [
    {
     "data": {
      "text/html": [
       "<style type=\"text/css\">\n",
       "#T_44656_row18_col1, #T_44656_row44_col1 {\n",
       "  background-color: lightgreen;\n",
       "}\n",
       "</style>\n",
       "<table id=\"T_44656\">\n",
       "  <thead>\n",
       "    <tr>\n",
       "      <th class=\"blank level0\" >&nbsp;</th>\n",
       "      <th id=\"T_44656_level0_col0\" class=\"col_heading level0 col0\" >Description</th>\n",
       "      <th id=\"T_44656_level0_col1\" class=\"col_heading level0 col1\" >Value</th>\n",
       "    </tr>\n",
       "  </thead>\n",
       "  <tbody>\n",
       "    <tr>\n",
       "      <th id=\"T_44656_level0_row0\" class=\"row_heading level0 row0\" >0</th>\n",
       "      <td id=\"T_44656_row0_col0\" class=\"data row0 col0\" >session_id</td>\n",
       "      <td id=\"T_44656_row0_col1\" class=\"data row0 col1\" >123</td>\n",
       "    </tr>\n",
       "    <tr>\n",
       "      <th id=\"T_44656_level0_row1\" class=\"row_heading level0 row1\" >1</th>\n",
       "      <td id=\"T_44656_row1_col0\" class=\"data row1 col0\" >Target</td>\n",
       "      <td id=\"T_44656_row1_col1\" class=\"data row1 col1\" >column100</td>\n",
       "    </tr>\n",
       "    <tr>\n",
       "      <th id=\"T_44656_level0_row2\" class=\"row_heading level0 row2\" >2</th>\n",
       "      <td id=\"T_44656_row2_col0\" class=\"data row2 col0\" >Target Type</td>\n",
       "      <td id=\"T_44656_row2_col1\" class=\"data row2 col1\" >Multiclass</td>\n",
       "    </tr>\n",
       "    <tr>\n",
       "      <th id=\"T_44656_level0_row3\" class=\"row_heading level0 row3\" >3</th>\n",
       "      <td id=\"T_44656_row3_col0\" class=\"data row3 col0\" >Label Encoded</td>\n",
       "      <td id=\"T_44656_row3_col1\" class=\"data row3 col1\" >None</td>\n",
       "    </tr>\n",
       "    <tr>\n",
       "      <th id=\"T_44656_level0_row4\" class=\"row_heading level0 row4\" >4</th>\n",
       "      <td id=\"T_44656_row4_col0\" class=\"data row4 col0\" >Original Data</td>\n",
       "      <td id=\"T_44656_row4_col1\" class=\"data row4 col1\" >(201668, 101)</td>\n",
       "    </tr>\n",
       "    <tr>\n",
       "      <th id=\"T_44656_level0_row5\" class=\"row_heading level0 row5\" >5</th>\n",
       "      <td id=\"T_44656_row5_col0\" class=\"data row5 col0\" >Missing Values</td>\n",
       "      <td id=\"T_44656_row5_col1\" class=\"data row5 col1\" >False</td>\n",
       "    </tr>\n",
       "    <tr>\n",
       "      <th id=\"T_44656_level0_row6\" class=\"row_heading level0 row6\" >6</th>\n",
       "      <td id=\"T_44656_row6_col0\" class=\"data row6 col0\" >Numeric Features</td>\n",
       "      <td id=\"T_44656_row6_col1\" class=\"data row6 col1\" >100</td>\n",
       "    </tr>\n",
       "    <tr>\n",
       "      <th id=\"T_44656_level0_row7\" class=\"row_heading level0 row7\" >7</th>\n",
       "      <td id=\"T_44656_row7_col0\" class=\"data row7 col0\" >Categorical Features</td>\n",
       "      <td id=\"T_44656_row7_col1\" class=\"data row7 col1\" >0</td>\n",
       "    </tr>\n",
       "    <tr>\n",
       "      <th id=\"T_44656_level0_row8\" class=\"row_heading level0 row8\" >8</th>\n",
       "      <td id=\"T_44656_row8_col0\" class=\"data row8 col0\" >Ordinal Features</td>\n",
       "      <td id=\"T_44656_row8_col1\" class=\"data row8 col1\" >False</td>\n",
       "    </tr>\n",
       "    <tr>\n",
       "      <th id=\"T_44656_level0_row9\" class=\"row_heading level0 row9\" >9</th>\n",
       "      <td id=\"T_44656_row9_col0\" class=\"data row9 col0\" >High Cardinality Features</td>\n",
       "      <td id=\"T_44656_row9_col1\" class=\"data row9 col1\" >False</td>\n",
       "    </tr>\n",
       "    <tr>\n",
       "      <th id=\"T_44656_level0_row10\" class=\"row_heading level0 row10\" >10</th>\n",
       "      <td id=\"T_44656_row10_col0\" class=\"data row10 col0\" >High Cardinality Method</td>\n",
       "      <td id=\"T_44656_row10_col1\" class=\"data row10 col1\" >None</td>\n",
       "    </tr>\n",
       "    <tr>\n",
       "      <th id=\"T_44656_level0_row11\" class=\"row_heading level0 row11\" >11</th>\n",
       "      <td id=\"T_44656_row11_col0\" class=\"data row11 col0\" >Transformed Train Set</td>\n",
       "      <td id=\"T_44656_row11_col1\" class=\"data row11 col1\" >(141167, 100)</td>\n",
       "    </tr>\n",
       "    <tr>\n",
       "      <th id=\"T_44656_level0_row12\" class=\"row_heading level0 row12\" >12</th>\n",
       "      <td id=\"T_44656_row12_col0\" class=\"data row12 col0\" >Transformed Test Set</td>\n",
       "      <td id=\"T_44656_row12_col1\" class=\"data row12 col1\" >(60501, 100)</td>\n",
       "    </tr>\n",
       "    <tr>\n",
       "      <th id=\"T_44656_level0_row13\" class=\"row_heading level0 row13\" >13</th>\n",
       "      <td id=\"T_44656_row13_col0\" class=\"data row13 col0\" >Shuffle Train-Test</td>\n",
       "      <td id=\"T_44656_row13_col1\" class=\"data row13 col1\" >True</td>\n",
       "    </tr>\n",
       "    <tr>\n",
       "      <th id=\"T_44656_level0_row14\" class=\"row_heading level0 row14\" >14</th>\n",
       "      <td id=\"T_44656_row14_col0\" class=\"data row14 col0\" >Stratify Train-Test</td>\n",
       "      <td id=\"T_44656_row14_col1\" class=\"data row14 col1\" >False</td>\n",
       "    </tr>\n",
       "    <tr>\n",
       "      <th id=\"T_44656_level0_row15\" class=\"row_heading level0 row15\" >15</th>\n",
       "      <td id=\"T_44656_row15_col0\" class=\"data row15 col0\" >Fold Generator</td>\n",
       "      <td id=\"T_44656_row15_col1\" class=\"data row15 col1\" >StratifiedKFold</td>\n",
       "    </tr>\n",
       "    <tr>\n",
       "      <th id=\"T_44656_level0_row16\" class=\"row_heading level0 row16\" >16</th>\n",
       "      <td id=\"T_44656_row16_col0\" class=\"data row16 col0\" >Fold Number</td>\n",
       "      <td id=\"T_44656_row16_col1\" class=\"data row16 col1\" >10</td>\n",
       "    </tr>\n",
       "    <tr>\n",
       "      <th id=\"T_44656_level0_row17\" class=\"row_heading level0 row17\" >17</th>\n",
       "      <td id=\"T_44656_row17_col0\" class=\"data row17 col0\" >CPU Jobs</td>\n",
       "      <td id=\"T_44656_row17_col1\" class=\"data row17 col1\" >-1</td>\n",
       "    </tr>\n",
       "    <tr>\n",
       "      <th id=\"T_44656_level0_row18\" class=\"row_heading level0 row18\" >18</th>\n",
       "      <td id=\"T_44656_row18_col0\" class=\"data row18 col0\" >Use GPU</td>\n",
       "      <td id=\"T_44656_row18_col1\" class=\"data row18 col1\" >True</td>\n",
       "    </tr>\n",
       "    <tr>\n",
       "      <th id=\"T_44656_level0_row19\" class=\"row_heading level0 row19\" >19</th>\n",
       "      <td id=\"T_44656_row19_col0\" class=\"data row19 col0\" >Log Experiment</td>\n",
       "      <td id=\"T_44656_row19_col1\" class=\"data row19 col1\" >False</td>\n",
       "    </tr>\n",
       "    <tr>\n",
       "      <th id=\"T_44656_level0_row20\" class=\"row_heading level0 row20\" >20</th>\n",
       "      <td id=\"T_44656_row20_col0\" class=\"data row20 col0\" >Experiment Name</td>\n",
       "      <td id=\"T_44656_row20_col1\" class=\"data row20 col1\" >clf-default-name</td>\n",
       "    </tr>\n",
       "    <tr>\n",
       "      <th id=\"T_44656_level0_row21\" class=\"row_heading level0 row21\" >21</th>\n",
       "      <td id=\"T_44656_row21_col0\" class=\"data row21 col0\" >USI</td>\n",
       "      <td id=\"T_44656_row21_col1\" class=\"data row21 col1\" >eacc</td>\n",
       "    </tr>\n",
       "    <tr>\n",
       "      <th id=\"T_44656_level0_row22\" class=\"row_heading level0 row22\" >22</th>\n",
       "      <td id=\"T_44656_row22_col0\" class=\"data row22 col0\" >Imputation Type</td>\n",
       "      <td id=\"T_44656_row22_col1\" class=\"data row22 col1\" >simple</td>\n",
       "    </tr>\n",
       "    <tr>\n",
       "      <th id=\"T_44656_level0_row23\" class=\"row_heading level0 row23\" >23</th>\n",
       "      <td id=\"T_44656_row23_col0\" class=\"data row23 col0\" >Iterative Imputation Iteration</td>\n",
       "      <td id=\"T_44656_row23_col1\" class=\"data row23 col1\" >None</td>\n",
       "    </tr>\n",
       "    <tr>\n",
       "      <th id=\"T_44656_level0_row24\" class=\"row_heading level0 row24\" >24</th>\n",
       "      <td id=\"T_44656_row24_col0\" class=\"data row24 col0\" >Numeric Imputer</td>\n",
       "      <td id=\"T_44656_row24_col1\" class=\"data row24 col1\" >mean</td>\n",
       "    </tr>\n",
       "    <tr>\n",
       "      <th id=\"T_44656_level0_row25\" class=\"row_heading level0 row25\" >25</th>\n",
       "      <td id=\"T_44656_row25_col0\" class=\"data row25 col0\" >Iterative Imputation Numeric Model</td>\n",
       "      <td id=\"T_44656_row25_col1\" class=\"data row25 col1\" >None</td>\n",
       "    </tr>\n",
       "    <tr>\n",
       "      <th id=\"T_44656_level0_row26\" class=\"row_heading level0 row26\" >26</th>\n",
       "      <td id=\"T_44656_row26_col0\" class=\"data row26 col0\" >Categorical Imputer</td>\n",
       "      <td id=\"T_44656_row26_col1\" class=\"data row26 col1\" >constant</td>\n",
       "    </tr>\n",
       "    <tr>\n",
       "      <th id=\"T_44656_level0_row27\" class=\"row_heading level0 row27\" >27</th>\n",
       "      <td id=\"T_44656_row27_col0\" class=\"data row27 col0\" >Iterative Imputation Categorical Model</td>\n",
       "      <td id=\"T_44656_row27_col1\" class=\"data row27 col1\" >None</td>\n",
       "    </tr>\n",
       "    <tr>\n",
       "      <th id=\"T_44656_level0_row28\" class=\"row_heading level0 row28\" >28</th>\n",
       "      <td id=\"T_44656_row28_col0\" class=\"data row28 col0\" >Unknown Categoricals Handling</td>\n",
       "      <td id=\"T_44656_row28_col1\" class=\"data row28 col1\" >least_frequent</td>\n",
       "    </tr>\n",
       "    <tr>\n",
       "      <th id=\"T_44656_level0_row29\" class=\"row_heading level0 row29\" >29</th>\n",
       "      <td id=\"T_44656_row29_col0\" class=\"data row29 col0\" >Normalize</td>\n",
       "      <td id=\"T_44656_row29_col1\" class=\"data row29 col1\" >False</td>\n",
       "    </tr>\n",
       "    <tr>\n",
       "      <th id=\"T_44656_level0_row30\" class=\"row_heading level0 row30\" >30</th>\n",
       "      <td id=\"T_44656_row30_col0\" class=\"data row30 col0\" >Normalize Method</td>\n",
       "      <td id=\"T_44656_row30_col1\" class=\"data row30 col1\" >None</td>\n",
       "    </tr>\n",
       "    <tr>\n",
       "      <th id=\"T_44656_level0_row31\" class=\"row_heading level0 row31\" >31</th>\n",
       "      <td id=\"T_44656_row31_col0\" class=\"data row31 col0\" >Transformation</td>\n",
       "      <td id=\"T_44656_row31_col1\" class=\"data row31 col1\" >False</td>\n",
       "    </tr>\n",
       "    <tr>\n",
       "      <th id=\"T_44656_level0_row32\" class=\"row_heading level0 row32\" >32</th>\n",
       "      <td id=\"T_44656_row32_col0\" class=\"data row32 col0\" >Transformation Method</td>\n",
       "      <td id=\"T_44656_row32_col1\" class=\"data row32 col1\" >None</td>\n",
       "    </tr>\n",
       "    <tr>\n",
       "      <th id=\"T_44656_level0_row33\" class=\"row_heading level0 row33\" >33</th>\n",
       "      <td id=\"T_44656_row33_col0\" class=\"data row33 col0\" >PCA</td>\n",
       "      <td id=\"T_44656_row33_col1\" class=\"data row33 col1\" >False</td>\n",
       "    </tr>\n",
       "    <tr>\n",
       "      <th id=\"T_44656_level0_row34\" class=\"row_heading level0 row34\" >34</th>\n",
       "      <td id=\"T_44656_row34_col0\" class=\"data row34 col0\" >PCA Method</td>\n",
       "      <td id=\"T_44656_row34_col1\" class=\"data row34 col1\" >None</td>\n",
       "    </tr>\n",
       "    <tr>\n",
       "      <th id=\"T_44656_level0_row35\" class=\"row_heading level0 row35\" >35</th>\n",
       "      <td id=\"T_44656_row35_col0\" class=\"data row35 col0\" >PCA Components</td>\n",
       "      <td id=\"T_44656_row35_col1\" class=\"data row35 col1\" >None</td>\n",
       "    </tr>\n",
       "    <tr>\n",
       "      <th id=\"T_44656_level0_row36\" class=\"row_heading level0 row36\" >36</th>\n",
       "      <td id=\"T_44656_row36_col0\" class=\"data row36 col0\" >Ignore Low Variance</td>\n",
       "      <td id=\"T_44656_row36_col1\" class=\"data row36 col1\" >False</td>\n",
       "    </tr>\n",
       "    <tr>\n",
       "      <th id=\"T_44656_level0_row37\" class=\"row_heading level0 row37\" >37</th>\n",
       "      <td id=\"T_44656_row37_col0\" class=\"data row37 col0\" >Combine Rare Levels</td>\n",
       "      <td id=\"T_44656_row37_col1\" class=\"data row37 col1\" >False</td>\n",
       "    </tr>\n",
       "    <tr>\n",
       "      <th id=\"T_44656_level0_row38\" class=\"row_heading level0 row38\" >38</th>\n",
       "      <td id=\"T_44656_row38_col0\" class=\"data row38 col0\" >Rare Level Threshold</td>\n",
       "      <td id=\"T_44656_row38_col1\" class=\"data row38 col1\" >None</td>\n",
       "    </tr>\n",
       "    <tr>\n",
       "      <th id=\"T_44656_level0_row39\" class=\"row_heading level0 row39\" >39</th>\n",
       "      <td id=\"T_44656_row39_col0\" class=\"data row39 col0\" >Numeric Binning</td>\n",
       "      <td id=\"T_44656_row39_col1\" class=\"data row39 col1\" >False</td>\n",
       "    </tr>\n",
       "    <tr>\n",
       "      <th id=\"T_44656_level0_row40\" class=\"row_heading level0 row40\" >40</th>\n",
       "      <td id=\"T_44656_row40_col0\" class=\"data row40 col0\" >Remove Outliers</td>\n",
       "      <td id=\"T_44656_row40_col1\" class=\"data row40 col1\" >False</td>\n",
       "    </tr>\n",
       "    <tr>\n",
       "      <th id=\"T_44656_level0_row41\" class=\"row_heading level0 row41\" >41</th>\n",
       "      <td id=\"T_44656_row41_col0\" class=\"data row41 col0\" >Outliers Threshold</td>\n",
       "      <td id=\"T_44656_row41_col1\" class=\"data row41 col1\" >None</td>\n",
       "    </tr>\n",
       "    <tr>\n",
       "      <th id=\"T_44656_level0_row42\" class=\"row_heading level0 row42\" >42</th>\n",
       "      <td id=\"T_44656_row42_col0\" class=\"data row42 col0\" >Remove Multicollinearity</td>\n",
       "      <td id=\"T_44656_row42_col1\" class=\"data row42 col1\" >False</td>\n",
       "    </tr>\n",
       "    <tr>\n",
       "      <th id=\"T_44656_level0_row43\" class=\"row_heading level0 row43\" >43</th>\n",
       "      <td id=\"T_44656_row43_col0\" class=\"data row43 col0\" >Multicollinearity Threshold</td>\n",
       "      <td id=\"T_44656_row43_col1\" class=\"data row43 col1\" >None</td>\n",
       "    </tr>\n",
       "    <tr>\n",
       "      <th id=\"T_44656_level0_row44\" class=\"row_heading level0 row44\" >44</th>\n",
       "      <td id=\"T_44656_row44_col0\" class=\"data row44 col0\" >Remove Perfect Collinearity</td>\n",
       "      <td id=\"T_44656_row44_col1\" class=\"data row44 col1\" >True</td>\n",
       "    </tr>\n",
       "    <tr>\n",
       "      <th id=\"T_44656_level0_row45\" class=\"row_heading level0 row45\" >45</th>\n",
       "      <td id=\"T_44656_row45_col0\" class=\"data row45 col0\" >Clustering</td>\n",
       "      <td id=\"T_44656_row45_col1\" class=\"data row45 col1\" >False</td>\n",
       "    </tr>\n",
       "    <tr>\n",
       "      <th id=\"T_44656_level0_row46\" class=\"row_heading level0 row46\" >46</th>\n",
       "      <td id=\"T_44656_row46_col0\" class=\"data row46 col0\" >Clustering Iteration</td>\n",
       "      <td id=\"T_44656_row46_col1\" class=\"data row46 col1\" >None</td>\n",
       "    </tr>\n",
       "    <tr>\n",
       "      <th id=\"T_44656_level0_row47\" class=\"row_heading level0 row47\" >47</th>\n",
       "      <td id=\"T_44656_row47_col0\" class=\"data row47 col0\" >Polynomial Features</td>\n",
       "      <td id=\"T_44656_row47_col1\" class=\"data row47 col1\" >False</td>\n",
       "    </tr>\n",
       "    <tr>\n",
       "      <th id=\"T_44656_level0_row48\" class=\"row_heading level0 row48\" >48</th>\n",
       "      <td id=\"T_44656_row48_col0\" class=\"data row48 col0\" >Polynomial Degree</td>\n",
       "      <td id=\"T_44656_row48_col1\" class=\"data row48 col1\" >None</td>\n",
       "    </tr>\n",
       "    <tr>\n",
       "      <th id=\"T_44656_level0_row49\" class=\"row_heading level0 row49\" >49</th>\n",
       "      <td id=\"T_44656_row49_col0\" class=\"data row49 col0\" >Trignometry Features</td>\n",
       "      <td id=\"T_44656_row49_col1\" class=\"data row49 col1\" >False</td>\n",
       "    </tr>\n",
       "    <tr>\n",
       "      <th id=\"T_44656_level0_row50\" class=\"row_heading level0 row50\" >50</th>\n",
       "      <td id=\"T_44656_row50_col0\" class=\"data row50 col0\" >Polynomial Threshold</td>\n",
       "      <td id=\"T_44656_row50_col1\" class=\"data row50 col1\" >None</td>\n",
       "    </tr>\n",
       "    <tr>\n",
       "      <th id=\"T_44656_level0_row51\" class=\"row_heading level0 row51\" >51</th>\n",
       "      <td id=\"T_44656_row51_col0\" class=\"data row51 col0\" >Group Features</td>\n",
       "      <td id=\"T_44656_row51_col1\" class=\"data row51 col1\" >False</td>\n",
       "    </tr>\n",
       "    <tr>\n",
       "      <th id=\"T_44656_level0_row52\" class=\"row_heading level0 row52\" >52</th>\n",
       "      <td id=\"T_44656_row52_col0\" class=\"data row52 col0\" >Feature Selection</td>\n",
       "      <td id=\"T_44656_row52_col1\" class=\"data row52 col1\" >False</td>\n",
       "    </tr>\n",
       "    <tr>\n",
       "      <th id=\"T_44656_level0_row53\" class=\"row_heading level0 row53\" >53</th>\n",
       "      <td id=\"T_44656_row53_col0\" class=\"data row53 col0\" >Feature Selection Method</td>\n",
       "      <td id=\"T_44656_row53_col1\" class=\"data row53 col1\" >classic</td>\n",
       "    </tr>\n",
       "    <tr>\n",
       "      <th id=\"T_44656_level0_row54\" class=\"row_heading level0 row54\" >54</th>\n",
       "      <td id=\"T_44656_row54_col0\" class=\"data row54 col0\" >Features Selection Threshold</td>\n",
       "      <td id=\"T_44656_row54_col1\" class=\"data row54 col1\" >None</td>\n",
       "    </tr>\n",
       "    <tr>\n",
       "      <th id=\"T_44656_level0_row55\" class=\"row_heading level0 row55\" >55</th>\n",
       "      <td id=\"T_44656_row55_col0\" class=\"data row55 col0\" >Feature Interaction</td>\n",
       "      <td id=\"T_44656_row55_col1\" class=\"data row55 col1\" >False</td>\n",
       "    </tr>\n",
       "    <tr>\n",
       "      <th id=\"T_44656_level0_row56\" class=\"row_heading level0 row56\" >56</th>\n",
       "      <td id=\"T_44656_row56_col0\" class=\"data row56 col0\" >Feature Ratio</td>\n",
       "      <td id=\"T_44656_row56_col1\" class=\"data row56 col1\" >False</td>\n",
       "    </tr>\n",
       "    <tr>\n",
       "      <th id=\"T_44656_level0_row57\" class=\"row_heading level0 row57\" >57</th>\n",
       "      <td id=\"T_44656_row57_col0\" class=\"data row57 col0\" >Interaction Threshold</td>\n",
       "      <td id=\"T_44656_row57_col1\" class=\"data row57 col1\" >None</td>\n",
       "    </tr>\n",
       "    <tr>\n",
       "      <th id=\"T_44656_level0_row58\" class=\"row_heading level0 row58\" >58</th>\n",
       "      <td id=\"T_44656_row58_col0\" class=\"data row58 col0\" >Fix Imbalance</td>\n",
       "      <td id=\"T_44656_row58_col1\" class=\"data row58 col1\" >False</td>\n",
       "    </tr>\n",
       "    <tr>\n",
       "      <th id=\"T_44656_level0_row59\" class=\"row_heading level0 row59\" >59</th>\n",
       "      <td id=\"T_44656_row59_col0\" class=\"data row59 col0\" >Fix Imbalance Method</td>\n",
       "      <td id=\"T_44656_row59_col1\" class=\"data row59 col1\" >SMOTE</td>\n",
       "    </tr>\n",
       "  </tbody>\n",
       "</table>\n"
      ],
      "text/plain": [
       "<pandas.io.formats.style.Styler at 0x2dda6ad4c70>"
      ]
     },
     "metadata": {},
     "output_type": "display_data"
    }
   ],
   "source": [
    "exp_mclf101 = setup(data = df, target = 'column100', session_id=123,use_gpu=True)"
   ]
  },
  {
   "cell_type": "code",
   "execution_count": 21,
   "metadata": {},
   "outputs": [
    {
     "data": {
      "text/html": [
       "<style type=\"text/css\">\n",
       "#T_6db2b th {\n",
       "  text-align: left;\n",
       "}\n",
       "#T_6db2b_row0_col0, #T_6db2b_row0_col3, #T_6db2b_row1_col0, #T_6db2b_row1_col1, #T_6db2b_row1_col2, #T_6db2b_row1_col4, #T_6db2b_row1_col5, #T_6db2b_row1_col6, #T_6db2b_row1_col7, #T_6db2b_row2_col0, #T_6db2b_row2_col1, #T_6db2b_row2_col2, #T_6db2b_row2_col3, #T_6db2b_row2_col4, #T_6db2b_row2_col5, #T_6db2b_row2_col6, #T_6db2b_row2_col7, #T_6db2b_row3_col0, #T_6db2b_row3_col1, #T_6db2b_row3_col2, #T_6db2b_row3_col3, #T_6db2b_row3_col4, #T_6db2b_row3_col5, #T_6db2b_row3_col6, #T_6db2b_row3_col7, #T_6db2b_row4_col0, #T_6db2b_row4_col1, #T_6db2b_row4_col2, #T_6db2b_row4_col3, #T_6db2b_row4_col4, #T_6db2b_row4_col5, #T_6db2b_row4_col6, #T_6db2b_row4_col7, #T_6db2b_row5_col0, #T_6db2b_row5_col1, #T_6db2b_row5_col2, #T_6db2b_row5_col3, #T_6db2b_row5_col4, #T_6db2b_row5_col5, #T_6db2b_row5_col6, #T_6db2b_row5_col7, #T_6db2b_row6_col0, #T_6db2b_row6_col1, #T_6db2b_row6_col2, #T_6db2b_row6_col3, #T_6db2b_row6_col4, #T_6db2b_row6_col5, #T_6db2b_row6_col6, #T_6db2b_row6_col7 {\n",
       "  text-align: left;\n",
       "}\n",
       "#T_6db2b_row0_col1, #T_6db2b_row0_col2, #T_6db2b_row0_col4, #T_6db2b_row0_col5, #T_6db2b_row0_col6, #T_6db2b_row0_col7, #T_6db2b_row1_col3 {\n",
       "  text-align: left;\n",
       "  background-color: yellow;\n",
       "}\n",
       "#T_6db2b_row0_col8, #T_6db2b_row1_col8, #T_6db2b_row2_col8, #T_6db2b_row4_col8, #T_6db2b_row5_col8, #T_6db2b_row6_col8 {\n",
       "  text-align: left;\n",
       "  background-color: lightgrey;\n",
       "}\n",
       "#T_6db2b_row3_col8 {\n",
       "  text-align: left;\n",
       "  background-color: yellow;\n",
       "  background-color: lightgrey;\n",
       "}\n",
       "</style>\n",
       "<table id=\"T_6db2b\">\n",
       "  <thead>\n",
       "    <tr>\n",
       "      <th class=\"blank level0\" >&nbsp;</th>\n",
       "      <th id=\"T_6db2b_level0_col0\" class=\"col_heading level0 col0\" >Model</th>\n",
       "      <th id=\"T_6db2b_level0_col1\" class=\"col_heading level0 col1\" >Accuracy</th>\n",
       "      <th id=\"T_6db2b_level0_col2\" class=\"col_heading level0 col2\" >AUC</th>\n",
       "      <th id=\"T_6db2b_level0_col3\" class=\"col_heading level0 col3\" >Recall</th>\n",
       "      <th id=\"T_6db2b_level0_col4\" class=\"col_heading level0 col4\" >Prec.</th>\n",
       "      <th id=\"T_6db2b_level0_col5\" class=\"col_heading level0 col5\" >F1</th>\n",
       "      <th id=\"T_6db2b_level0_col6\" class=\"col_heading level0 col6\" >Kappa</th>\n",
       "      <th id=\"T_6db2b_level0_col7\" class=\"col_heading level0 col7\" >MCC</th>\n",
       "      <th id=\"T_6db2b_level0_col8\" class=\"col_heading level0 col8\" >TT (Sec)</th>\n",
       "    </tr>\n",
       "  </thead>\n",
       "  <tbody>\n",
       "    <tr>\n",
       "      <th id=\"T_6db2b_level0_row0\" class=\"row_heading level0 row0\" >rf</th>\n",
       "      <td id=\"T_6db2b_row0_col0\" class=\"data row0 col0\" >Random Forest Classifier</td>\n",
       "      <td id=\"T_6db2b_row0_col1\" class=\"data row0 col1\" >0.9241</td>\n",
       "      <td id=\"T_6db2b_row0_col2\" class=\"data row0 col2\" >0.3969</td>\n",
       "      <td id=\"T_6db2b_row0_col3\" class=\"data row0 col3\" >0.8618</td>\n",
       "      <td id=\"T_6db2b_row0_col4\" class=\"data row0 col4\" >0.9242</td>\n",
       "      <td id=\"T_6db2b_row0_col5\" class=\"data row0 col5\" >0.9221</td>\n",
       "      <td id=\"T_6db2b_row0_col6\" class=\"data row0 col6\" >0.9077</td>\n",
       "      <td id=\"T_6db2b_row0_col7\" class=\"data row0 col7\" >0.9086</td>\n",
       "      <td id=\"T_6db2b_row0_col8\" class=\"data row0 col8\" >8.1160</td>\n",
       "    </tr>\n",
       "    <tr>\n",
       "      <th id=\"T_6db2b_level0_row1\" class=\"row_heading level0 row1\" >dt</th>\n",
       "      <td id=\"T_6db2b_row1_col0\" class=\"data row1 col0\" >Decision Tree Classifier</td>\n",
       "      <td id=\"T_6db2b_row1_col1\" class=\"data row1 col1\" >0.9177</td>\n",
       "      <td id=\"T_6db2b_row1_col2\" class=\"data row1 col2\" >0.3845</td>\n",
       "      <td id=\"T_6db2b_row1_col3\" class=\"data row1 col3\" >0.8633</td>\n",
       "      <td id=\"T_6db2b_row1_col4\" class=\"data row1 col4\" >0.9162</td>\n",
       "      <td id=\"T_6db2b_row1_col5\" class=\"data row1 col5\" >0.9166</td>\n",
       "      <td id=\"T_6db2b_row1_col6\" class=\"data row1 col6\" >0.9009</td>\n",
       "      <td id=\"T_6db2b_row1_col7\" class=\"data row1 col7\" >0.9009</td>\n",
       "      <td id=\"T_6db2b_row1_col8\" class=\"data row1 col8\" >5.9620</td>\n",
       "    </tr>\n",
       "    <tr>\n",
       "      <th id=\"T_6db2b_level0_row2\" class=\"row_heading level0 row2\" >knn</th>\n",
       "      <td id=\"T_6db2b_row2_col0\" class=\"data row2 col0\" >K Neighbors Classifier</td>\n",
       "      <td id=\"T_6db2b_row2_col1\" class=\"data row2 col1\" >0.8851</td>\n",
       "      <td id=\"T_6db2b_row2_col2\" class=\"data row2 col2\" >0.3899</td>\n",
       "      <td id=\"T_6db2b_row2_col3\" class=\"data row2 col3\" >0.8342</td>\n",
       "      <td id=\"T_6db2b_row2_col4\" class=\"data row2 col4\" >0.8820</td>\n",
       "      <td id=\"T_6db2b_row2_col5\" class=\"data row2 col5\" >0.8824</td>\n",
       "      <td id=\"T_6db2b_row2_col6\" class=\"data row2 col6\" >0.8609</td>\n",
       "      <td id=\"T_6db2b_row2_col7\" class=\"data row2 col7\" >0.8612</td>\n",
       "      <td id=\"T_6db2b_row2_col8\" class=\"data row2 col8\" >4.4880</td>\n",
       "    </tr>\n",
       "    <tr>\n",
       "      <th id=\"T_6db2b_level0_row3\" class=\"row_heading level0 row3\" >ridge</th>\n",
       "      <td id=\"T_6db2b_row3_col0\" class=\"data row3 col0\" >Ridge Classifier</td>\n",
       "      <td id=\"T_6db2b_row3_col1\" class=\"data row3 col1\" >0.7133</td>\n",
       "      <td id=\"T_6db2b_row3_col2\" class=\"data row3 col2\" >0.0000</td>\n",
       "      <td id=\"T_6db2b_row3_col3\" class=\"data row3 col3\" >0.5524</td>\n",
       "      <td id=\"T_6db2b_row3_col4\" class=\"data row3 col4\" >0.8101</td>\n",
       "      <td id=\"T_6db2b_row3_col5\" class=\"data row3 col5\" >0.6468</td>\n",
       "      <td id=\"T_6db2b_row3_col6\" class=\"data row3 col6\" >0.6233</td>\n",
       "      <td id=\"T_6db2b_row3_col7\" class=\"data row3 col7\" >0.6726</td>\n",
       "      <td id=\"T_6db2b_row3_col8\" class=\"data row3 col8\" >0.1750</td>\n",
       "    </tr>\n",
       "    <tr>\n",
       "      <th id=\"T_6db2b_level0_row4\" class=\"row_heading level0 row4\" >svm</th>\n",
       "      <td id=\"T_6db2b_row4_col0\" class=\"data row4 col0\" >SVM - Linear Kernel</td>\n",
       "      <td id=\"T_6db2b_row4_col1\" class=\"data row4 col1\" >0.7039</td>\n",
       "      <td id=\"T_6db2b_row4_col2\" class=\"data row4 col2\" >0.0000</td>\n",
       "      <td id=\"T_6db2b_row4_col3\" class=\"data row4 col3\" >0.4967</td>\n",
       "      <td id=\"T_6db2b_row4_col4\" class=\"data row4 col4\" >0.7529</td>\n",
       "      <td id=\"T_6db2b_row4_col5\" class=\"data row4 col5\" >0.6305</td>\n",
       "      <td id=\"T_6db2b_row4_col6\" class=\"data row4 col6\" >0.6114</td>\n",
       "      <td id=\"T_6db2b_row4_col7\" class=\"data row4 col7\" >0.6594</td>\n",
       "      <td id=\"T_6db2b_row4_col8\" class=\"data row4 col8\" >1.0310</td>\n",
       "    </tr>\n",
       "    <tr>\n",
       "      <th id=\"T_6db2b_level0_row5\" class=\"row_heading level0 row5\" >qda</th>\n",
       "      <td id=\"T_6db2b_row5_col0\" class=\"data row5 col0\" >Quadratic Discriminant Analysis</td>\n",
       "      <td id=\"T_6db2b_row5_col1\" class=\"data row5 col1\" >0.3988</td>\n",
       "      <td id=\"T_6db2b_row5_col2\" class=\"data row5 col2\" >0.2966</td>\n",
       "      <td id=\"T_6db2b_row5_col3\" class=\"data row5 col3\" >0.2133</td>\n",
       "      <td id=\"T_6db2b_row5_col4\" class=\"data row5 col4\" >0.4091</td>\n",
       "      <td id=\"T_6db2b_row5_col5\" class=\"data row5 col5\" >0.3749</td>\n",
       "      <td id=\"T_6db2b_row5_col6\" class=\"data row5 col6\" >0.2994</td>\n",
       "      <td id=\"T_6db2b_row5_col7\" class=\"data row5 col7\" >0.3219</td>\n",
       "      <td id=\"T_6db2b_row5_col8\" class=\"data row5 col8\" >1.0350</td>\n",
       "    </tr>\n",
       "    <tr>\n",
       "      <th id=\"T_6db2b_level0_row6\" class=\"row_heading level0 row6\" >nb</th>\n",
       "      <td id=\"T_6db2b_row6_col0\" class=\"data row6 col0\" >Naive Bayes</td>\n",
       "      <td id=\"T_6db2b_row6_col1\" class=\"data row6 col1\" >0.3813</td>\n",
       "      <td id=\"T_6db2b_row6_col2\" class=\"data row6 col2\" >0.3418</td>\n",
       "      <td id=\"T_6db2b_row6_col3\" class=\"data row6 col3\" >0.5284</td>\n",
       "      <td id=\"T_6db2b_row6_col4\" class=\"data row6 col4\" >0.5785</td>\n",
       "      <td id=\"T_6db2b_row6_col5\" class=\"data row6 col5\" >0.3640</td>\n",
       "      <td id=\"T_6db2b_row6_col6\" class=\"data row6 col6\" >0.3471</td>\n",
       "      <td id=\"T_6db2b_row6_col7\" class=\"data row6 col7\" >0.3899</td>\n",
       "      <td id=\"T_6db2b_row6_col8\" class=\"data row6 col8\" >0.4250</td>\n",
       "    </tr>\n",
       "  </tbody>\n",
       "</table>\n"
      ],
      "text/plain": [
       "<pandas.io.formats.style.Styler at 0x2dda6aba0d0>"
      ]
     },
     "metadata": {},
     "output_type": "display_data"
    }
   ],
   "source": [
    "#Generating a classification table for a few classifier techniques\n",
    "best = compare_models(include = ['rf', 'dt', 'knn','svm','ridge','nb','qda'])"
   ]
  },
  {
   "cell_type": "code",
   "execution_count": 145,
   "metadata": {
    "id": "n34Rc4tXqXp4"
   },
   "outputs": [],
   "source": [
    "clf = SVC()"
   ]
  },
  {
   "cell_type": "code",
   "execution_count": 146,
   "metadata": {
    "colab": {
     "base_uri": "https://localhost:8080/"
    },
    "id": "iHun4uPSqa9e",
    "outputId": "6ab8a815-dad3-4f74-c215-3f72112fecca"
   },
   "outputs": [
    {
     "data": {
      "text/plain": [
       "SVC()"
      ]
     },
     "execution_count": 146,
     "metadata": {},
     "output_type": "execute_result"
    }
   ],
   "source": [
    "clf.fit(X_train, y_train) "
   ]
  },
  {
   "cell_type": "markdown",
   "metadata": {
    "id": "8iVJNBQngaiD"
   },
   "source": [
    "Training the SVM classifier took about 2 hours "
   ]
  },
  {
   "cell_type": "code",
   "execution_count": 147,
   "metadata": {
    "id": "YlNbhFf7qcy8"
   },
   "outputs": [],
   "source": [
    "y_pred = clf.predict(X_test)"
   ]
  },
  {
   "cell_type": "markdown",
   "metadata": {
    "id": "5AKmxm82ghVk"
   },
   "source": [
    "Using the SVM classifier to make predictions took about 15 mins "
   ]
  },
  {
   "cell_type": "code",
   "execution_count": 148,
   "metadata": {
    "id": "ZT52aRB_qiQD"
   },
   "outputs": [],
   "source": [
    "pred_labels = le.inverse_transform(y_pred)"
   ]
  },
  {
   "cell_type": "code",
   "execution_count": 149,
   "metadata": {
    "colab": {
     "base_uri": "https://localhost:8080/"
    },
    "id": "Qt92dPrZqj8N",
    "outputId": "4c912d50-1b61-4305-e9fd-167fb8609647"
   },
   "outputs": [
    {
     "name": "stderr",
     "output_type": "stream",
     "text": [
      "/usr/local/lib/python3.7/dist-packages/sklearn/metrics/_classification.py:1318: UndefinedMetricWarning: Precision is ill-defined and being set to 0.0 in labels with no predicted samples. Use `zero_division` parameter to control this behavior.\n",
      "  _warn_prf(average, modifier, msg_start, len(result))\n"
     ]
    }
   ],
   "source": [
    "accuracy = accuracy_score(y_test, y_pred)\n",
    "precision = precision_score(y_test, y_pred, average='weighted')\n",
    "recall = recall_score(y_test, y_pred, average='weighted')"
   ]
  },
  {
   "cell_type": "code",
   "execution_count": 150,
   "metadata": {
    "colab": {
     "base_uri": "https://localhost:8080/"
    },
    "id": "GWkgn5cQqltJ",
    "outputId": "74ce30e4-66bf-4c5a-c8ad-5059f8c96c1a"
   },
   "outputs": [
    {
     "name": "stdout",
     "output_type": "stream",
     "text": [
      "Accuracy = 0.73\n",
      "Precision = 0.82\n",
      "Recall = 0.73\n"
     ]
    }
   ],
   "source": [
    "print(\"Accuracy = {0:.2f}\".format(accuracy))\n",
    "print(\"Precision = {0:.2f}\".format(precision))\n",
    "print(\"Recall = {0:.2f}\".format(recall))"
   ]
  },
  {
   "cell_type": "code",
   "execution_count": 169,
   "metadata": {
    "id": "pY3gt_pzrAW6"
   },
   "outputs": [],
   "source": [
    "textInput = 'بوتين ذهب الى المانيا في القارة الاوروبية'\n",
    "tokens = textInput.split() "
   ]
  },
  {
   "cell_type": "code",
   "execution_count": 170,
   "metadata": {
    "id": "PJcwCFPpfG34"
   },
   "outputs": [],
   "source": [
    "test_data = []\n",
    "for i in range(len(tokens)):\n",
    "    test_data.append(svmW2V.wv[tokens[i]])"
   ]
  },
  {
   "cell_type": "code",
   "execution_count": 171,
   "metadata": {
    "colab": {
     "base_uri": "https://localhost:8080/"
    },
    "id": "eI4egL48fUU9",
    "outputId": "2c362bdc-467d-48a4-e8a6-a30535f47d6c"
   },
   "outputs": [
    {
     "data": {
      "text/plain": [
       "array([7, 7, 1, 7, 1, 7, 7])"
      ]
     },
     "execution_count": 171,
     "metadata": {},
     "output_type": "execute_result"
    }
   ],
   "source": [
    "y_pred = clf.predict(test_data)\n",
    "y_pred"
   ]
  },
  {
   "cell_type": "code",
   "execution_count": 172,
   "metadata": {
    "colab": {
     "base_uri": "https://localhost:8080/"
    },
    "id": "7I9tiD_ifaPD",
    "outputId": "bda0f167-0169-443b-9cbc-418452a4b63d"
   },
   "outputs": [
    {
     "data": {
      "text/plain": [
       "array(['noun', 'noun', 'adp', 'noun', 'adp', 'noun', 'noun'], dtype='<U5')"
      ]
     },
     "execution_count": 172,
     "metadata": {},
     "output_type": "execute_result"
    }
   ],
   "source": [
    "le.inverse_transform(y_pred)"
   ]
  },
  {
   "cell_type": "markdown",
   "metadata": {
    "id": "Bb1yfRDygBxv"
   },
   "source": [
    "As seen in the SVM Model, it is not able to differentiate between the nouns and the names very well, it treated the name \"بوتين\" at the beginning of the sentence as a noun where it should have been treated as a name. "
   ]
  }
 ],
 "metadata": {
  "accelerator": "TPU",
  "colab": {
   "collapsed_sections": [],
   "machine_shape": "hm",
   "provenance": []
  },
  "kernelspec": {
   "display_name": "Python 3 (ipykernel)",
   "language": "python",
   "name": "python3"
  },
  "language_info": {
   "codemirror_mode": {
    "name": "ipython",
    "version": 3
   },
   "file_extension": ".py",
   "mimetype": "text/x-python",
   "name": "python",
   "nbconvert_exporter": "python",
   "pygments_lexer": "ipython3",
   "version": "3.9.12"
  }
 },
 "nbformat": 4,
 "nbformat_minor": 4
}
